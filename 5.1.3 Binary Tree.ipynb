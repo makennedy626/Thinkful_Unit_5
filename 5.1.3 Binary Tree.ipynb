{
 "cells": [
  {
   "cell_type": "markdown",
   "metadata": {},
   "source": [
    "Implement a binary tree, which fill with 15 pieces of random data. Your job is to then write a program to traverse the tree using a breadth first traversal. If you want additional practice, try other forms of traversal."
   ]
  },
  {
   "cell_type": "code",
   "execution_count": 23,
   "metadata": {},
   "outputs": [],
   "source": [
    "import random "
   ]
  },
  {
   "cell_type": "code",
   "execution_count": 20,
   "metadata": {
    "collapsed": true
   },
   "outputs": [],
   "source": [
    "class Node:\n",
    "\n",
    "      def __init__(self,info): #constructor of class\n",
    "\n",
    "          self.info = info  #information for node\n",
    "          self.left = None  #left leef\n",
    "          self.right = None #right leef\n",
    "          self.level = None #level none defined\n",
    "\n",
    "      def __str__(self):\n",
    "\n",
    "          return str(self.info) #return as string"
   ]
  },
  {
   "cell_type": "code",
   "execution_count": 21,
   "metadata": {},
   "outputs": [],
   "source": [
    "class searchtree:\n",
    "\n",
    "      def __init__(self): #constructor of class\n",
    "\n",
    "          self.root = None\n",
    "\n",
    "\n",
    "      def create(self,val):  #create binary search tree nodes\n",
    "\n",
    "          if self.root == None:\n",
    "\n",
    "             self.root = Node(val)\n",
    "\n",
    "          else:\n",
    "\n",
    "             current = self.root\n",
    "\n",
    "             while 1:\n",
    "\n",
    "                 if val < current.info:\n",
    "\n",
    "                   if current.left:\n",
    "                      current = current.left\n",
    "                   else:\n",
    "                      current.left = Node(val)\n",
    "                      break;      \n",
    "\n",
    "                 elif val > current.info:\n",
    "                 \n",
    "                    if current.right:\n",
    "                       current = current.right\n",
    "                    else:\n",
    "                       current.right = Node(val)\n",
    "                       break;      \n",
    "\n",
    "                 else:\n",
    "                    break \n",
    "\n",
    "      def bft(self): #Breadth-First Traversal\n",
    "\n",
    "          self.root.level = 0 \n",
    "          queue = [self.root]\n",
    "          out = []\n",
    "          current_level = self.root.level\n",
    "\n",
    "          while len(queue) > 0:\n",
    "                 \n",
    "             current_node = queue.pop(0)\n",
    " \n",
    "             if current_node.level > current_level:\n",
    "                current_level += 1\n",
    "                out.append(\"\\n\")\n",
    "\n",
    "             out.append(str(current_node.info) + \" \")\n",
    "\n",
    "             if current_node.left:\n",
    "\n",
    "                current_node.left.level = current_level + 1\n",
    "                queue.append(current_node.left)\n",
    "                  \n",
    "\n",
    "             if current_node.right:\n",
    "\n",
    "                current_node.right.level = current_level + 1\n",
    "                queue.append(current_node.right)\n",
    "                      \n",
    "                 \n",
    "          print(\"\".join(out))"
   ]
  },
  {
   "cell_type": "code",
   "execution_count": 22,
   "metadata": {},
   "outputs": [
    {
     "name": "stdout",
     "output_type": "stream",
     "text": [
      "41 \n",
      "9 91 \n",
      "2 28 71 \n",
      "14 32 47 80 \n",
      "17 29 39 \n",
      "25 \n"
     ]
    }
   ],
   "source": [
    "tree = searchtree()\n",
    "arr = [\n",
    "    random.randrange(100),\n",
    "    random.randrange(100),\n",
    "    random.randrange(100),\n",
    "    random.randrange(100),\n",
    "    random.randrange(100),\n",
    "    random.randrange(100),\n",
    "    random.randrange(100),\n",
    "    random.randrange(100),\n",
    "    random.randrange(100),\n",
    "    random.randrange(100),\n",
    "    random.randrange(100),\n",
    "    random.randrange(100),\n",
    "    random.randrange(100),\n",
    "    random.randrange(100),\n",
    "    random.randrange(100)\n",
    "]\n",
    "for i in arr:\n",
    "    tree.create(i)\n",
    "tree.bft()"
   ]
  }
 ],
 "metadata": {
  "kernelspec": {
   "display_name": "Python 3",
   "language": "python",
   "name": "python3"
  },
  "language_info": {
   "codemirror_mode": {
    "name": "ipython",
    "version": 3
   },
   "file_extension": ".py",
   "mimetype": "text/x-python",
   "name": "python",
   "nbconvert_exporter": "python",
   "pygments_lexer": "ipython3",
   "version": "3.6.3"
  }
 },
 "nbformat": 4,
 "nbformat_minor": 2
}
