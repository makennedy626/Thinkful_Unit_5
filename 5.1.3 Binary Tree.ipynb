{
 "cells": [
  {
   "cell_type": "markdown",
   "metadata": {},
   "source": [
    "Implement a binary tree, which fill with 15 pieces of random data. Your job is to then write a program to traverse the tree using a breadth first traversal. If you want additional practice, try other forms of traversal."
   ]
  },
  {
   "cell_type": "code",
   "execution_count": 1,
   "metadata": {
    "collapsed": true
   },
   "outputs": [],
   "source": [
    "import random "
   ]
  },
  {
   "cell_type": "code",
   "execution_count": 2,
   "metadata": {},
   "outputs": [],
   "source": [
    "class Node:\n",
    "    def __init__(self, val):\n",
    "        self.left = None\n",
    "        self.right = None\n",
    "        self.val = val"
   ]
  },
  {
   "cell_type": "code",
   "execution_count": 3,
   "metadata": {
    "collapsed": true
   },
   "outputs": [],
   "source": [
    "# Establish the initial root node and children\n",
    "root = Node(random.randrange(100))\n",
    "root.left = Node(random.randrange(100))\n",
    "root.right = Node(random.randrange(100))\n",
    "\n",
    "# Add the appropriate children\n",
    "root.left.left = Node(random.randrange(100))\n",
    "root.left.right = Node(random.randrange(100))\n",
    "root.right.left = Node(random.randrange(100))\n",
    "root.right.right = Node(random.randrange(100))\n",
    "root.left.left.left = Node(random.randrange(100))\n",
    "root.left.left.right = Node(random.randrange(100))\n",
    "root.left.right.left = Node(random.randrange(100))\n",
    "root.left.right.right = Node(random.randrange(100))\n",
    "root.right.left.left = Node(random.randrange(100))\n",
    "root.right.left.right = Node(random.randrange(100))\n",
    "root.right.right.left = Node(random.randrange(100))\n",
    "root.right.right.right = Node(random.randrange(100))"
   ]
  },
  {
   "cell_type": "code",
   "execution_count": 4,
   "metadata": {},
   "outputs": [
    {
     "name": "stdout",
     "output_type": "stream",
     "text": [
      "44 16 75 55 33 86 37 8 31 46 55 80 26 43 79 \n"
     ]
    }
   ],
   "source": [
    "# Breadth-first traversal of tree\n",
    "root.level = 0 \n",
    "queue = [root]\n",
    "out = []\n",
    "current_level = root.level\n",
    "\n",
    "while len(queue) > 0:\n",
    "               \n",
    "    current_node = queue.pop(0)\n",
    " \n",
    "    if current_node.level > current_level:\n",
    "        current_level += 1\n",
    "        #out.append(\"\\n\")\n",
    "\n",
    "    out.append(str(current_node.val) + \" \")\n",
    "\n",
    "    if current_node.left:\n",
    "\n",
    "        current_node.left.level = current_level + 1\n",
    "        queue.append(current_node.left)\n",
    "                  \n",
    "\n",
    "    if current_node.right:\n",
    "\n",
    "        current_node.right.level = current_level + 1\n",
    "        queue.append(current_node.right)\n",
    "                      \n",
    "                 \n",
    "print(\"\".join(out))"
   ]
  },
  {
   "cell_type": "code",
   "execution_count": 5,
   "metadata": {},
   "outputs": [
    {
     "name": "stdout",
     "output_type": "stream",
     "text": [
      "44\n",
      "16 75\n",
      "55 33\n",
      "86 37\n"
     ]
    }
   ],
   "source": [
    "# Checking to see if it worked\n",
    "print(root.val)\n",
    "print(root.left.val, root.right.val)\n",
    "print(root.left.left.val, root.left.right.val)\n",
    "print(root.right.left.val, root.right.right.val)"
   ]
  }
 ],
 "metadata": {
  "kernelspec": {
   "display_name": "Python 3",
   "language": "python",
   "name": "python3"
  },
  "language_info": {
   "codemirror_mode": {
    "name": "ipython",
    "version": 3
   },
   "file_extension": ".py",
   "mimetype": "text/x-python",
   "name": "python",
   "nbconvert_exporter": "python",
   "pygments_lexer": "ipython3",
   "version": "3.6.3"
  }
 },
 "nbformat": 4,
 "nbformat_minor": 2
}
