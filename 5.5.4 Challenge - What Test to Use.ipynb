{
 "cells": [
  {
   "cell_type": "markdown",
   "metadata": {},
   "source": [
    "Using selected questions from the 2012 and 2014 editions of the European Social Survey, address the following questions. Keep track of your code and results in a Jupyter notebook or other source that you can share with your mentor. For each question, explain why you chose the approach you did.\n",
    "\n",
    "Here is the data file https://raw.githubusercontent.com/Thinkful-Ed/data-201-resources/master/ESS_practice_data/ESSdata_Thinkful.csv. And here is the codebook https://thinkful-ed.github.io/data-201-resources/ESS_practice_data/ESS_codebook.html, with information about the variable coding and content.\n",
    "\n",
    "In this dataset, the same participants answered questions in 2012 and again 2014.\n",
    "\n",
    "Did people become less trusting from 2012 to 2014? Compute results for each country in the sample.\n",
    "Did people become happier from 2012 to 2014? Compute results for each country in the sample.\n",
    "Who reported watching more TV in 2012, men or women?\n",
    "Who was more likely to believe people were fair in 2012, people living with a partner or people living alone?\n",
    "Pick three or four of the countries in the sample and compare how often people met socially in 2014. Are there differences, and if so, which countries stand out?\n",
    "Pick three or four of the countries in the sample and compare how often people took part in social activities, relative to others their age, in 2014. Are there differences, and if so, which countries stand out?\n",
    "Submit a link to your work below."
   ]
  },
  {
   "cell_type": "code",
   "execution_count": 1,
   "metadata": {
    "collapsed": true
   },
   "outputs": [],
   "source": [
    "import pandas as pd\n",
    "import numpy as np\n",
    "import matplotlib.pyplot as plt\n",
    "import scipy.stats as stats\n",
    "%matplotlib inline"
   ]
  },
  {
   "cell_type": "code",
   "execution_count": 2,
   "metadata": {},
   "outputs": [],
   "source": [
    "#original = pd.read_csv('C:\\\\Users\\\\mkennedy\\\\Documents\\\\ESSdata_Thinkful.csv')\n",
    "original = pd.read_csv('D:\\\\Data\\\\ESSdata_Thinkful.csv')"
   ]
  },
  {
   "cell_type": "code",
   "execution_count": 3,
   "metadata": {
    "collapsed": true
   },
   "outputs": [],
   "source": [
    "data = original"
   ]
  },
  {
   "cell_type": "code",
   "execution_count": 4,
   "metadata": {},
   "outputs": [
    {
     "data": {
      "text/html": [
       "<div>\n",
       "<style>\n",
       "    .dataframe thead tr:only-child th {\n",
       "        text-align: right;\n",
       "    }\n",
       "\n",
       "    .dataframe thead th {\n",
       "        text-align: left;\n",
       "    }\n",
       "\n",
       "    .dataframe tbody tr th {\n",
       "        vertical-align: top;\n",
       "    }\n",
       "</style>\n",
       "<table border=\"1\" class=\"dataframe\">\n",
       "  <thead>\n",
       "    <tr style=\"text-align: right;\">\n",
       "      <th></th>\n",
       "      <th>cntry</th>\n",
       "      <th>idno</th>\n",
       "      <th>year</th>\n",
       "      <th>tvtot</th>\n",
       "      <th>ppltrst</th>\n",
       "      <th>pplfair</th>\n",
       "      <th>pplhlp</th>\n",
       "      <th>happy</th>\n",
       "      <th>sclmeet</th>\n",
       "      <th>sclact</th>\n",
       "      <th>gndr</th>\n",
       "      <th>agea</th>\n",
       "      <th>partner</th>\n",
       "    </tr>\n",
       "  </thead>\n",
       "  <tbody>\n",
       "    <tr>\n",
       "      <th>0</th>\n",
       "      <td>CH</td>\n",
       "      <td>5.0</td>\n",
       "      <td>6</td>\n",
       "      <td>3.0</td>\n",
       "      <td>3.0</td>\n",
       "      <td>10.0</td>\n",
       "      <td>5.0</td>\n",
       "      <td>8.0</td>\n",
       "      <td>5.0</td>\n",
       "      <td>4.0</td>\n",
       "      <td>2.0</td>\n",
       "      <td>60.0</td>\n",
       "      <td>1.0</td>\n",
       "    </tr>\n",
       "    <tr>\n",
       "      <th>1</th>\n",
       "      <td>CH</td>\n",
       "      <td>25.0</td>\n",
       "      <td>6</td>\n",
       "      <td>6.0</td>\n",
       "      <td>5.0</td>\n",
       "      <td>7.0</td>\n",
       "      <td>5.0</td>\n",
       "      <td>9.0</td>\n",
       "      <td>3.0</td>\n",
       "      <td>2.0</td>\n",
       "      <td>2.0</td>\n",
       "      <td>59.0</td>\n",
       "      <td>1.0</td>\n",
       "    </tr>\n",
       "    <tr>\n",
       "      <th>2</th>\n",
       "      <td>CH</td>\n",
       "      <td>26.0</td>\n",
       "      <td>6</td>\n",
       "      <td>1.0</td>\n",
       "      <td>8.0</td>\n",
       "      <td>8.0</td>\n",
       "      <td>8.0</td>\n",
       "      <td>7.0</td>\n",
       "      <td>6.0</td>\n",
       "      <td>3.0</td>\n",
       "      <td>1.0</td>\n",
       "      <td>24.0</td>\n",
       "      <td>2.0</td>\n",
       "    </tr>\n",
       "    <tr>\n",
       "      <th>3</th>\n",
       "      <td>CH</td>\n",
       "      <td>28.0</td>\n",
       "      <td>6</td>\n",
       "      <td>4.0</td>\n",
       "      <td>6.0</td>\n",
       "      <td>6.0</td>\n",
       "      <td>7.0</td>\n",
       "      <td>10.0</td>\n",
       "      <td>6.0</td>\n",
       "      <td>2.0</td>\n",
       "      <td>2.0</td>\n",
       "      <td>64.0</td>\n",
       "      <td>1.0</td>\n",
       "    </tr>\n",
       "    <tr>\n",
       "      <th>4</th>\n",
       "      <td>CH</td>\n",
       "      <td>29.0</td>\n",
       "      <td>6</td>\n",
       "      <td>5.0</td>\n",
       "      <td>6.0</td>\n",
       "      <td>7.0</td>\n",
       "      <td>5.0</td>\n",
       "      <td>8.0</td>\n",
       "      <td>7.0</td>\n",
       "      <td>2.0</td>\n",
       "      <td>2.0</td>\n",
       "      <td>55.0</td>\n",
       "      <td>1.0</td>\n",
       "    </tr>\n",
       "  </tbody>\n",
       "</table>\n",
       "</div>"
      ],
      "text/plain": [
       "  cntry  idno  year  tvtot  ppltrst  pplfair  pplhlp  happy  sclmeet  sclact  \\\n",
       "0    CH   5.0     6    3.0      3.0     10.0     5.0    8.0      5.0     4.0   \n",
       "1    CH  25.0     6    6.0      5.0      7.0     5.0    9.0      3.0     2.0   \n",
       "2    CH  26.0     6    1.0      8.0      8.0     8.0    7.0      6.0     3.0   \n",
       "3    CH  28.0     6    4.0      6.0      6.0     7.0   10.0      6.0     2.0   \n",
       "4    CH  29.0     6    5.0      6.0      7.0     5.0    8.0      7.0     2.0   \n",
       "\n",
       "   gndr  agea  partner  \n",
       "0   2.0  60.0      1.0  \n",
       "1   2.0  59.0      1.0  \n",
       "2   1.0  24.0      2.0  \n",
       "3   2.0  64.0      1.0  \n",
       "4   2.0  55.0      1.0  "
      ]
     },
     "execution_count": 4,
     "metadata": {},
     "output_type": "execute_result"
    }
   ],
   "source": [
    "data.head()"
   ]
  },
  {
   "cell_type": "code",
   "execution_count": 5,
   "metadata": {},
   "outputs": [
    {
     "data": {
      "image/png": "[encoded data removed]",
      "text/plain": [
       "<matplotlib.figure.Figure at 0x2b411b53b70>"
      ]
     },
     "metadata": {},
     "output_type": "display_data"
    }
   ],
   "source": [
    "data.hist()\n",
    "plt.show()"
   ]
  },
  {
   "cell_type": "code",
   "execution_count": 6,
   "metadata": {},
   "outputs": [
    {
     "name": "stdout",
     "output_type": "stream",
     "text": [
      "8594\n"
     ]
    }
   ],
   "source": [
    "print(len(data))"
   ]
  },
  {
   "cell_type": "markdown",
   "metadata": {},
   "source": [
    "### Did people become less trusting from 2012 to 2014? Compute results for each country in the sample\n",
    "\n",
    "##### Since the comparison is between two years where all participants experienced both versions, the t-test for paired samples will be used."
   ]
  },
  {
   "cell_type": "code",
   "execution_count": 7,
   "metadata": {},
   "outputs": [
    {
     "name": "stdout",
     "output_type": "stream",
     "text": [
      "cntry\n",
      "CH    5.677878\n",
      "CZ    4.362519\n",
      "DE    5.214286\n",
      "ES    5.114592\n",
      "NO    6.649315\n",
      "SE    6.058499\n",
      "Name: ppltrst, dtype: float64\n",
      "KstestResult(statistic=0.99999357133511468, pvalue=0.0)\n",
      "cntry\n",
      "CH    5.751617\n",
      "CZ    4.424658\n",
      "DE    5.357143\n",
      "ES    4.895128\n",
      "NO    6.598630\n",
      "SE    6.257709\n",
      "Name: ppltrst, dtype: float64\n",
      "KstestResult(statistic=0.99999517023026774, pvalue=0.0)\n"
     ]
    }
   ],
   "source": [
    "data2012 = data.loc[data['year'] ==6]\n",
    "data2012 = data2012.groupby(data2012['cntry'])['ppltrst'].mean()\n",
    "print(data2012)\n",
    "# Test for normal distribution\n",
    "print(stats.kstest(data2012, 'norm'))\n",
    "data2014 = data.loc[data['year'] == 7]\n",
    "data2014 = data2014.groupby(data2014['cntry'])['ppltrst'].mean()\n",
    "print(data2014)\n",
    "print(stats.kstest(data2014, 'norm'))"
   ]
  },
  {
   "cell_type": "code",
   "execution_count": 8,
   "metadata": {
    "collapsed": true
   },
   "outputs": [],
   "source": [
    "# pvalue of 0 shows that distribution is not normal"
   ]
  },
  {
   "cell_type": "code",
   "execution_count": 9,
   "metadata": {},
   "outputs": [
    {
     "data": {
      "text/plain": [
       "Ttest_relResult(statistic=-0.56447447786795457, pvalue=0.59681274401551998)"
      ]
     },
     "execution_count": 9,
     "metadata": {},
     "output_type": "execute_result"
    }
   ],
   "source": [
    "stats.ttest_rel(data2012,data2014)"
   ]
  },
  {
   "cell_type": "code",
   "execution_count": 10,
   "metadata": {
    "collapsed": true
   },
   "outputs": [],
   "source": [
    "# Negative t-statistic shows a drop in ppltrst"
   ]
  },
  {
   "cell_type": "markdown",
   "metadata": {
    "collapsed": true
   },
   "source": [
    "##### The high p-value denotes that the null hypothesis of identical average scores cannot be rejected. By viewing the the printed averages by country from 2012 to 2014, it can be seen that the ppltrst means increased over time with the exception of ES and NO."
   ]
  },
  {
   "cell_type": "markdown",
   "metadata": {},
   "source": [
    "### Did people become happier from 2012 to 2014? Compute results for each country in the sample.\n",
    "\n",
    "##### Since the comparison is between two years where all participants experienced both versions, the t-test for paired samples will be used."
   ]
  },
  {
   "cell_type": "code",
   "execution_count": 11,
   "metadata": {
    "scrolled": true
   },
   "outputs": [
    {
     "ename": "AttributeError",
     "evalue": "'Series' object has no attribute 'cntry'",
     "output_type": "error",
     "traceback": [
      "\u001b[1;31m---------------------------------------------------------------------------\u001b[0m",
      "\u001b[1;31mAttributeError\u001b[0m                            Traceback (most recent call last)",
      "\u001b[1;32m<ipython-input-11-48ba5896a5c6>\u001b[0m in \u001b[0;36m<module>\u001b[1;34m()\u001b[0m\n\u001b[0;32m      2\u001b[0m     \u001b[1;31m# where all participants experienced both versions, the wilcoxon test will be used\u001b[0m\u001b[1;33m\u001b[0m\u001b[1;33m\u001b[0m\u001b[0m\n\u001b[0;32m      3\u001b[0m \u001b[1;31m# Test for normal distribution\u001b[0m\u001b[1;33m\u001b[0m\u001b[1;33m\u001b[0m\u001b[0m\n\u001b[1;32m----> 4\u001b[1;33m \u001b[1;32mfor\u001b[0m \u001b[0munique\u001b[0m \u001b[1;32min\u001b[0m \u001b[0mdata2012\u001b[0m\u001b[1;33m.\u001b[0m\u001b[0mcntry\u001b[0m\u001b[1;33m.\u001b[0m\u001b[0munique\u001b[0m\u001b[1;33m(\u001b[0m\u001b[1;33m)\u001b[0m\u001b[1;33m:\u001b[0m\u001b[1;33m\u001b[0m\u001b[0m\n\u001b[0m\u001b[0;32m      5\u001b[0m     \u001b[0mcntry\u001b[0m \u001b[1;33m=\u001b[0m \u001b[0munique\u001b[0m\u001b[1;33m\u001b[0m\u001b[0m\n\u001b[0;32m      6\u001b[0m     \u001b[0mdata_to_use\u001b[0m \u001b[1;33m=\u001b[0m \u001b[0mdata2012\u001b[0m\u001b[1;33m[\u001b[0m\u001b[0mdata2012\u001b[0m\u001b[1;33m[\u001b[0m\u001b[1;34m'cntry'\u001b[0m\u001b[1;33m]\u001b[0m \u001b[1;33m==\u001b[0m \u001b[0mcntry\u001b[0m\u001b[1;33m]\u001b[0m\u001b[1;33m\u001b[0m\u001b[0m\n",
      "\u001b[1;32m~\\Anaconda3\\lib\\site-packages\\pandas\\core\\generic.py\u001b[0m in \u001b[0;36m__getattr__\u001b[1;34m(self, name)\u001b[0m\n\u001b[0;32m   3079\u001b[0m             \u001b[1;32mif\u001b[0m \u001b[0mname\u001b[0m \u001b[1;32min\u001b[0m \u001b[0mself\u001b[0m\u001b[1;33m.\u001b[0m\u001b[0m_info_axis\u001b[0m\u001b[1;33m:\u001b[0m\u001b[1;33m\u001b[0m\u001b[0m\n\u001b[0;32m   3080\u001b[0m                 \u001b[1;32mreturn\u001b[0m \u001b[0mself\u001b[0m\u001b[1;33m[\u001b[0m\u001b[0mname\u001b[0m\u001b[1;33m]\u001b[0m\u001b[1;33m\u001b[0m\u001b[0m\n\u001b[1;32m-> 3081\u001b[1;33m             \u001b[1;32mreturn\u001b[0m \u001b[0mobject\u001b[0m\u001b[1;33m.\u001b[0m\u001b[0m__getattribute__\u001b[0m\u001b[1;33m(\u001b[0m\u001b[0mself\u001b[0m\u001b[1;33m,\u001b[0m \u001b[0mname\u001b[0m\u001b[1;33m)\u001b[0m\u001b[1;33m\u001b[0m\u001b[0m\n\u001b[0m\u001b[0;32m   3082\u001b[0m \u001b[1;33m\u001b[0m\u001b[0m\n\u001b[0;32m   3083\u001b[0m     \u001b[1;32mdef\u001b[0m \u001b[0m__setattr__\u001b[0m\u001b[1;33m(\u001b[0m\u001b[0mself\u001b[0m\u001b[1;33m,\u001b[0m \u001b[0mname\u001b[0m\u001b[1;33m,\u001b[0m \u001b[0mvalue\u001b[0m\u001b[1;33m)\u001b[0m\u001b[1;33m:\u001b[0m\u001b[1;33m\u001b[0m\u001b[0m\n",
      "\u001b[1;31mAttributeError\u001b[0m: 'Series' object has no attribute 'cntry'"
     ]
    }
   ],
   "source": [
    "# Since the data is not normally distributed and it is a comparison of two samples\n",
    "    # where all participants experienced both versions, the wilcoxon test will be used\n",
    "# Test for normal distribution\n",
    "for unique in data2012.cntry.unique():\n",
    "    cntry = unique\n",
    "    data_to_use = data2012[data2012['cntry'] == cntry]\n",
    "    #print(data_to_use)\n",
    "    print(stats.kstest(data_to_use['happy'].dropna(),'norm'))\n",
    "    \n",
    "    \n",
    "data.happy.dropna()\n",
    "data2012 = data.loc[data['year'] ==6]\n",
    "data2014 = data.loc[data['year'] == 7]\n",
    "for unique in data2012.cntry.unique():\n",
    "    cntry = unique\n",
    "    data_to_use2012 = data2012[data2012['cntry'] == cntry]\n",
    "    for unique2 in data2014.cntry.unique():\n",
    "        if unique2 == unique:\n",
    "            cntry2 = unique2\n",
    "            data_to_use2014 = data2014[data2014['cntry']==cntry]\n",
    "            print(cntry, stats.wilcoxon(data_to_use2012['happy'],data_to_use2014['happy']))"
   ]
  },
  {
   "cell_type": "markdown",
   "metadata": {},
   "source": [
    "##### For the countries where the p-value is greater than .05, there was not a change in happiness."
   ]
  },
  {
   "cell_type": "markdown",
   "metadata": {},
   "source": [
    "### Who reported watching more TV in 2012, men or women?"
   ]
  },
  {
   "cell_type": "code",
   "execution_count": 15,
   "metadata": {},
   "outputs": [
    {
     "name": "stdout",
     "output_type": "stream",
     "text": [
      "KstestResult(statistic=0.85435267179013852, pvalue=0.0)\n",
      "KstestResult(statistic=0.86148975647580961, pvalue=0.0)\n",
      "MannwhitneyuResult(statistic=2277506.5, pvalue=0.22419270231191457)\n"
     ]
    }
   ],
   "source": [
    "data.tvtot.dropna()\n",
    "data2012 = data.loc[data['year'] ==6]\n",
    "\n",
    "for unique in data2012.gndr.unique():\n",
    "    gndr = unique\n",
    "    data_to_use = data2012[data2012['gndr'] == gndr]\n",
    "    print(stats.kstest(data_to_use['tvtot'].dropna(),'norm'))\n",
    "    \n",
    "men = data2012[data2012['gndr']==1]\n",
    "women = data2012[data2012['gndr']==2]\n",
    "print(stats.mannwhitneyu(men['tvtot'],women['tvtot'],alternative='less'))"
   ]
  },
  {
   "cell_type": "markdown",
   "metadata": {},
   "source": [
    "##### The Mann Whitney U test ranks the tvtot values for the male gender (since it was passed first) versus the tvtot values for the female gender. \n",
    "\n",
    "##### Since the p-value is so high, the null hypothesis that men and women watched the same amount of tv cannot be rejected."
   ]
  },
  {
   "cell_type": "markdown",
   "metadata": {},
   "source": [
    "### Who was more likely to believe people were fair in 2012, people living with a partner or people living alone? \n",
    "\n",
    "##### Since the comparison is between two independent groups, a ttest for independent samples is used."
   ]
  },
  {
   "cell_type": "code",
   "execution_count": 13,
   "metadata": {},
   "outputs": [
    {
     "name": "stdout",
     "output_type": "stream",
     "text": [
      "KstestResult(statistic=0.94194474764031744, pvalue=0.0)\n"
     ]
    },
    {
     "data": {
      "text/plain": [
       "Ttest_indResult(statistic=23.54768424993765, pvalue=7.2757780196276393e-119)"
      ]
     },
     "execution_count": 13,
     "metadata": {},
     "output_type": "execute_result"
    }
   ],
   "source": [
    "partnerfair = data.loc[data['year']==6]\n",
    "# Test for normal distribution\n",
    "print(stats.kstest(partnerfair['pplfair'].dropna(), 'norm'))\n",
    "\n",
    "################### NOT NORMAL USE MANNWHITNEYU\n",
    "\n",
    "stats.ttest_ind(partnerfair['partner']==1, partnerfair['partner']==2)"
   ]
  },
  {
   "cell_type": "markdown",
   "metadata": {},
   "source": [
    "##### The low p-value suggests that the null hypothesis of identical scores can be rejected.\n",
    "\n",
    "##### People living with a partner were more likely to believe people were fair (higher statistic value)"
   ]
  },
  {
   "cell_type": "markdown",
   "metadata": {},
   "source": [
    "### Pick three or four of the countries in the sample and compare how often people met socially in 2014. Are there differences, and if so, which countries stand out?\n",
    "\n",
    "##### Multiple independent groups with non-normal distribution call for a median test."
   ]
  },
  {
   "cell_type": "code",
   "execution_count": 16,
   "metadata": {},
   "outputs": [
    {
     "name": "stdout",
     "output_type": "stream",
     "text": [
      "CH KStest:  KstestResult(statistic=0.99999971334842808, pvalue=5.7330314384707037e-07)\n",
      "CZ KStest:  KstestResult(statistic=0.99999971334842808, pvalue=5.7330314384707037e-07)\n",
      "DE KStest:  KstestResult(statistic=0.99996832875816688, pvalue=6.3342483666239957e-05)\n",
      "Median Test:  (8.4409630417286738, 0.014691568504652792, 3.0, array([[138,  79,   1],\n",
      "       [605, 527,  13]], dtype=int64))\n"
     ]
    }
   ],
   "source": [
    "scl = data.loc[data['year'] == 7]\n",
    "\n",
    "CH = scl[scl['cntry']=='CH'].dropna()\n",
    "CH = CH.sclact\n",
    "CZ = scl[scl['cntry']=='CZ'].dropna()\n",
    "CZ = CZ.sclact\n",
    "DE = scl[scl['cntry']=='DE'].dropna()\n",
    "DE = DE.sclact\n",
    "\n",
    "print('CH KStest: ', stats.kstest([CH], 'norm'))\n",
    "print('CZ KStest: ', stats.kstest([CZ], 'norm'))\n",
    "print('DE KStest: ', stats.kstest([DE], 'norm'))\n",
    "\n",
    "# Trying with Median Test\n",
    "print('Median Test: ', stats.median_test(CH,CZ,DE))"
   ]
  },
  {
   "cell_type": "markdown",
   "metadata": {},
   "source": [
    "##### The p-value is below .05, so the null hypothesis can be ruled out.\n",
    "\n",
    "##### The array lists the number of values above the grand median first and then the number of values below the grand median. \n",
    "\n",
    "##### All three countries have different ratios of under versus over values, with DE having the greatest difference, then CZ."
   ]
  },
  {
   "cell_type": "markdown",
   "metadata": {},
   "source": [
    " ### Pick three or four of the countries in the sample and compare how often people took part in social activities, relative to others their age, in 2014. Are there differences, and if so, which countries stand out?\n",
    " \n",
    "##### Multiple independent groups calls for a median test."
   ]
  },
  {
   "cell_type": "code",
   "execution_count": 21,
   "metadata": {},
   "outputs": [
    {
     "name": "stdout",
     "output_type": "stream",
     "text": [
      "(107,) (95,) (94,)\n"
     ]
    },
    {
     "data": {
      "text/plain": [
       "(0.16104360285522612, 0.92263478860893267, 3.0, array([[16, 15, 16],\n",
       "        [91, 80, 78]], dtype=int64))"
      ]
     },
     "execution_count": 21,
     "metadata": {},
     "output_type": "execute_result"
    }
   ],
   "source": [
    "# Need to sort by country and then age, then do a comparison of each country's age group versus another's sclact\n",
    "\n",
    "scl = data.loc[data['year']==7]\n",
    "# Group by country\n",
    "CH = scl[scl['cntry']=='CH'].dropna()\n",
    "CZ = scl[scl['cntry']=='CZ'].dropna()\n",
    "NO = scl[scl['cntry']=='NO'].dropna()\n",
    "\n",
    "# Group by age\n",
    "CH_twenty_thirty = CH[CH['agea']<30]\n",
    "CH_twenty_thirty = CH_twenty_thirty[CH_twenty_thirty['agea']>=20]\n",
    "CH_twenty_thirty = CH_twenty_thirty.sclact\n",
    "CZ_twenty_thirty = CZ[CZ['agea']<30]\n",
    "CZ_twenty_thirty = CZ_twenty_thirty[CZ_twenty_thirty['agea']>=20]\n",
    "CZ_twenty_thirty = CZ_twenty_thirty.sclact\n",
    "NO_twenty_thirty = NO[NO['agea']<30]\n",
    "NO_twenty_thirty = NO_twenty_thirty[NO_twenty_thirty['agea']>=20]\n",
    "NO_twenty_thirty = NO_twenty_thirty.sclact\n",
    "\n",
    "\n",
    "print(CH_twenty_thirty.shape, CZ_twenty_thirty.shape, NO_twenty_thirty.shape)\n",
    "\n",
    "stats.median_test(CH_twenty_thirty, CZ_twenty_thirty, NO_twenty_thirty)"
   ]
  },
  {
   "cell_type": "markdown",
   "metadata": {},
   "source": [
    "##### The high p-value denotes that the null hypothesis of "
   ]
  }
 ],
 "metadata": {
  "kernelspec": {
   "display_name": "Python 3",
   "language": "python",
   "name": "python3"
  },
  "language_info": {
   "codemirror_mode": {
    "name": "ipython",
    "version": 3
   },
   "file_extension": ".py",
   "mimetype": "text/x-python",
   "name": "python",
   "nbconvert_exporter": "python",
   "pygments_lexer": "ipython3",
   "version": "3.6.3"
  }
 },
 "nbformat": 4,
 "nbformat_minor": 2
}
